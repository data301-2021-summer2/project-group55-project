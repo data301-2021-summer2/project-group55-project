{
 "cells": [
  {
   "cell_type": "code",
   "execution_count": null,
   "id": "10de847f-603a-4063-9de7-9a9f0ac97182",
   "metadata": {},
   "outputs": [],
   "source": [
    "def load_and_process(url_or_path_to_csv_file):\n",
    "    ## rename columns and dropping NaN columns and rows\n",
    "    DF1= (pd.read_csv(url_or_path_to_csv_file,sep=';',decimal='.')\n",
    "        .rename(columns={'CO(GT)':'CO C(mg/m^3)','NMHC(GT)':'NMHC C(mg/m^3)',\n",
    "               'C6H6(GT)':'C6H6 C(mg/m^3)','NOx(GT)':'NOx C(ppb)','NO2(GT)':'NO2 C(mg/m^3)'})\n",
    "        .dropna(how='all')\n",
    "        .dropna(how='all',axis='columns'))\n",
    "    ##Dropping other columns, convert to datetime object and adding new columns\n",
    "    DF2=(DF1.drop(columns=['PT08.S1(CO)','PT08.S2(NMHC)','PT08.S3(NOx)','PT08.S4(NO2)','PT08.S5(O3)'])\n",
    "        .assign(Date=lambda df_:pd.to_datetime(df_['Date']),\n",
    "          month=lambda df_:pd.DatetimeIndex(df_['Date']).month))\n",
    "    return DF2"
   ]
  }
 ],
 "metadata": {
  "kernelspec": {
   "display_name": "Python 3 (ipykernel)",
   "language": "python",
   "name": "python3"
  },
  "language_info": {
   "codemirror_mode": {
    "name": "ipython",
    "version": 3
   },
   "file_extension": ".py",
   "mimetype": "text/x-python",
   "name": "python",
   "nbconvert_exporter": "python",
   "pygments_lexer": "ipython3",
   "version": "3.8.5"
  }
 },
 "nbformat": 4,
 "nbformat_minor": 5
}
